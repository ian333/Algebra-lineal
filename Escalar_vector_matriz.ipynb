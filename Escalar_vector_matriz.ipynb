{
 "cells": [
  {
   "cell_type": "code",
   "metadata": {
    "cell_id": "b9f0a123-5ea3-46b0-8cd6-e371aadde958",
    "tags": [],
    "deepnote_to_be_reexecuted": false,
    "source_hash": "9e3bce99",
    "execution_start": 1644642031669,
    "execution_millis": 11750,
    "deepnote_cell_type": "code"
   },
   "source": "escalar = 5.678\nprint(escalar)",
   "execution_count": null,
   "outputs": [
    {
     "name": "stdout",
     "text": "5.678\n",
     "output_type": "stream"
    }
   ]
  },
  {
   "cell_type": "code",
   "metadata": {
    "cell_id": "29ac5093-f8f5-4a83-a428-e3b0754053e2",
    "tags": [],
    "deepnote_to_be_reexecuted": false,
    "source_hash": "4030951",
    "execution_start": 1644642121793,
    "execution_millis": 4,
    "deepnote_cell_type": "code"
   },
   "source": "escalar_python= True\nprint(escalar_python)\nprint(type(escalar_python))",
   "execution_count": null,
   "outputs": [
    {
     "name": "stdout",
     "text": "True\n<class 'bool'>\n",
     "output_type": "stream"
    }
   ]
  },
  {
   "cell_type": "code",
   "metadata": {
    "cell_id": "01128911-5a23-4308-87b8-c41f730ba2c3",
    "tags": [],
    "deepnote_to_be_reexecuted": false,
    "source_hash": "c2602aa8",
    "execution_start": 1644642132035,
    "execution_millis": 13,
    "deepnote_cell_type": "code"
   },
   "source": "import numpy as np",
   "execution_count": null,
   "outputs": []
  },
  {
   "cell_type": "code",
   "metadata": {
    "cell_id": "3201a4a2-22cb-49ec-8b80-f45612c86c03",
    "tags": [],
    "deepnote_to_be_reexecuted": false,
    "source_hash": "db788230",
    "execution_start": 1644642158120,
    "execution_millis": 30,
    "deepnote_cell_type": "code"
   },
   "source": "vector=np.array([1,2,3,4])\nprint(vector)",
   "execution_count": null,
   "outputs": [
    {
     "name": "stdout",
     "text": "[1 2 3 4]\n",
     "output_type": "stream"
    }
   ]
  },
  {
   "cell_type": "code",
   "metadata": {
    "cell_id": "5f056b4a-e865-4944-a59f-5f6351c3f0f8",
    "tags": [],
    "deepnote_to_be_reexecuted": false,
    "source_hash": "f49721f4",
    "execution_start": 1644642202751,
    "execution_millis": 19,
    "deepnote_cell_type": "code"
   },
   "source": "matriz=np.array([[1,2,3],[4,5,6],[7,8,9]])\nprint(matriz\n)",
   "execution_count": null,
   "outputs": [
    {
     "name": "stdout",
     "text": "[[1 2 3]\n [4 5 6]\n [7 8 9]]\n",
     "output_type": "stream"
    }
   ]
  },
  {
   "cell_type": "code",
   "metadata": {
    "cell_id": "237b6c58-c56f-4305-924c-5e10d78dd988",
    "tags": [],
    "deepnote_to_be_reexecuted": false,
    "source_hash": "fb6c8a88",
    "execution_start": 1644642396081,
    "execution_millis": 12,
    "deepnote_cell_type": "code"
   },
   "source": "tensor= np.array([\n    [[1,2,3],[4,5,6],[7,8,9]],\n    [[11,12,13],[14,15,16],[17,18,19]],\n    [[21,22,23],[24,25,26],[27,28,29]],\n\n])\n\nprint(tensor)",
   "execution_count": null,
   "outputs": [
    {
     "name": "stdout",
     "text": "[[[ 1  2  3]\n  [ 4  5  6]\n  [ 7  8  9]]\n\n [[11 12 13]\n  [14 15 16]\n  [17 18 19]]\n\n [[21 22 23]\n  [24 25 26]\n  [27 28 29]]]\n",
     "output_type": "stream"
    }
   ]
  },
  {
   "cell_type": "code",
   "metadata": {
    "cell_id": "b5ad8af1-e886-490a-947d-60bac29a9e37",
    "tags": [],
    "deepnote_to_be_reexecuted": false,
    "source_hash": "722c91e1",
    "execution_start": 1644642460132,
    "execution_millis": 4340,
    "deepnote_cell_type": "code"
   },
   "source": "%matplotlib inline\n\nimport matplotlib.pyplot as plt",
   "execution_count": null,
   "outputs": []
  },
  {
   "cell_type": "code",
   "metadata": {
    "cell_id": "44565555-b7e0-4ad7-b88f-20f8667f0044",
    "tags": [],
    "deepnote_to_be_reexecuted": false,
    "source_hash": "6cb08d89",
    "execution_start": 1644642495416,
    "execution_millis": 378,
    "deepnote_output_heights": [
     254,
     254
    ],
    "deepnote_cell_type": "code"
   },
   "source": "plt.imshow(tensor,interpolation='nearest')\nplt.show()",
   "execution_count": null,
   "outputs": [
    {
     "data": {
      "text/plain": "<Figure size 432x288 with 1 Axes>",
      "image/png": "[encoded data removed]"
     },
     "metadata": {
      "needs_background": "light",
      "image/png": {
       "width": 271,
       "height": 252
      }
     },
     "output_type": "display_data"
    }
   ]
  },
  {
   "cell_type": "code",
   "metadata": {
    "cell_id": "c6f15f4f-b823-4fc3-9cab-d1f7540f1ed4",
    "tags": [],
    "deepnote_to_be_reexecuted": false,
    "source_hash": "84cfac9a",
    "execution_start": 1644642575365,
    "execution_millis": 3,
    "deepnote_cell_type": "code"
   },
   "source": "tensor= np.array([\n    [[0,0,0],[0,0,0],[0,0,0]],\n    [[128,128,128],[128,128,128],[128,128,128]],\n    [[255,255,255],[255,255,255],[255,255,255]],\n\n])\n\nprint(tensor)",
   "execution_count": null,
   "outputs": [
    {
     "name": "stdout",
     "text": "[[[  0   0   0]\n  [  0   0   0]\n  [  0   0   0]]\n\n [[128 128 128]\n  [128 128 128]\n  [128 128 128]]\n\n [[255 255 255]\n  [255 255 255]\n  [255 255 255]]]\n",
     "output_type": "stream"
    }
   ]
  },
  {
   "cell_type": "code",
   "metadata": {
    "cell_id": "c3fcd070-5318-4d9b-8c76-70c37a404128",
    "tags": [],
    "deepnote_to_be_reexecuted": false,
    "source_hash": "6cb08d89",
    "execution_start": 1644642583379,
    "execution_millis": 510,
    "deepnote_output_heights": [
     254
    ],
    "deepnote_cell_type": "code"
   },
   "source": "plt.imshow(tensor,interpolation='nearest')\nplt.show()",
   "execution_count": null,
   "outputs": [
    {
     "data": {
      "text/plain": "<Figure size 432x288 with 1 Axes>",
      "image/png": "[encoded data removed]"
     },
     "metadata": {
      "needs_background": "light",
      "image/png": {
       "width": 271,
       "height": 252
      }
     },
     "output_type": "display_data"
    }
   ]
  },
  {
   "cell_type": "code",
   "metadata": {
    "cell_id": "5646068d-63aa-4401-af8b-f0af32326e4e",
    "tags": [],
    "deepnote_cell_type": "code"
   },
   "source": "",
   "execution_count": null,
   "outputs": []
  },
  {
   "cell_type": "markdown",
   "source": "# Reto Platzi",
   "metadata": {
    "cell_id": "e5c1b511-b809-49a2-a58b-9e0b90dfff85",
    "tags": [],
    "deepnote_cell_type": "markdown"
   }
  },
  {
   "cell_type": "markdown",
   "source": "",
   "metadata": {
    "cell_id": "8351bf8b-cfd3-48e7-b2fe-87815db0c779",
    "tags": [],
    "deepnote_cell_type": "markdown"
   }
  },
  {
   "cell_type": "code",
   "metadata": {
    "cell_id": "1dded3ac-9f47-4a85-a882-b9f6646281b1",
    "tags": [],
    "deepnote_to_be_reexecuted": false,
    "source_hash": "adeaca5f",
    "execution_start": 1644642704739,
    "execution_millis": 14,
    "deepnote_cell_type": "code"
   },
   "source": "escalar = 42\nprint(escalar)",
   "execution_count": null,
   "outputs": [
    {
     "name": "stdout",
     "text": "42\n",
     "output_type": "stream"
    }
   ]
  },
  {
   "cell_type": "code",
   "metadata": {
    "cell_id": "f9427530-5335-4984-9a4a-9867a6820e3c",
    "tags": [],
    "deepnote_to_be_reexecuted": false,
    "source_hash": "4c7c1fb4",
    "execution_start": 1644642705684,
    "execution_millis": 31,
    "deepnote_cell_type": "code"
   },
   "source": "vector=np.array([2,3,7])\nprint(vector)",
   "execution_count": null,
   "outputs": [
    {
     "name": "stdout",
     "text": "[2 3 7]\n",
     "output_type": "stream"
    }
   ]
  },
  {
   "cell_type": "code",
   "metadata": {
    "cell_id": "588390c0-bec3-4b2c-9f34-16a1a55d4e46",
    "tags": [],
    "deepnote_to_be_reexecuted": false,
    "source_hash": "6a8b407f",
    "execution_start": 1644642725260,
    "execution_millis": 397,
    "deepnote_cell_type": "code"
   },
   "source": "matriz=np.array([[1,2],[4,5],[7,8]])\nprint(matriz\n)",
   "execution_count": null,
   "outputs": [
    {
     "name": "stdout",
     "text": "[[1 2]\n [4 5]\n [7 8]]\n",
     "output_type": "stream"
    }
   ]
  },
  {
   "cell_type": "code",
   "metadata": {
    "cell_id": "3f39276f-10eb-44ec-b94a-6b05cb67d1ee",
    "tags": [],
    "deepnote_to_be_reexecuted": false,
    "source_hash": "6d390279",
    "execution_start": 1644642802965,
    "execution_millis": 459,
    "deepnote_output_heights": [
     null,
     254
    ],
    "deepnote_cell_type": "code"
   },
   "source": "tensor= np.array([\n    [[255,255,255],[255,255,255],[255,255,255]],\n    [[0,0,0],[0,0,0],[0,0,0]],\n    [[128,128,128],[128,128,128],[128,128,128]]\n\n])\n\nprint(tensor)\nplt.imshow(tensor,interpolation='nearest')\nplt.show()",
   "execution_count": null,
   "outputs": [
    {
     "name": "stdout",
     "text": "[[[255 255 255]\n  [255 255 255]\n  [255 255 255]]\n\n [[  0   0   0]\n  [  0   0   0]\n  [  0   0   0]]\n\n [[128 128 128]\n  [128 128 128]\n  [128 128 128]]]\n",
     "output_type": "stream"
    },
    {
     "data": {
      "text/plain": "<Figure size 432x288 with 1 Axes>",
      "image/png": "[encoded data removed]"
     },
     "metadata": {
      "needs_background": "light",
      "image/png": {
       "width": 271,
       "height": 252
      }
     },
     "output_type": "display_data"
    }
   ]
  },
  {
   "cell_type": "code",
   "metadata": {
    "cell_id": "a390e0e3-20b2-4e95-b9d2-9e813281f2d6",
    "tags": [],
    "deepnote_cell_type": "code"
   },
   "source": "",
   "execution_count": null,
   "outputs": []
  },
  {
   "cell_type": "markdown",
   "source": "<a style='text-decoration:none;line-height:16px;display:flex;color:#5B5B62;padding:10px;justify-content:end;' href='https://deepnote.com?utm_source=created-in-deepnote-cell&projectId=574e9a1c-d8dd-4ee0-b56a-658b2637ff93' target=\"_blank\">\n<img alt='Created in deepnote.com' style='display:inline;max-height:16px;margin:0px;margin-right:7.5px;' src='data:image/svg+xml;base64,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' > </img>\nCreated in <span style='font-weight:600;margin-left:4px;'>Deepnote</span></a>",
   "metadata": {
    "tags": [],
    "created_in_deepnote_cell": true,
    "deepnote_cell_type": "markdown"
   }
  }
 ],
 "nbformat": 4,
 "nbformat_minor": 2,
 "metadata": {
  "orig_nbformat": 2,
  "deepnote": {
   "is_reactive": false
  },
  "deepnote_notebook_id": "a79f9681-4643-4d8a-94ef-21f69a936e76",
  "deepnote_execution_queue": []
 }
}