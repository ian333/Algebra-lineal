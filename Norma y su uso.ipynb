{
 "cells": [
  {
   "cell_type": "markdown",
   "source": "# Norma y sus  usos\n\n* $ norma({\\lambda}) \\geq  0 $\n* $ norma({\\lambda}) = 0 \\iff \\lambda = 0 $\n* $ norma({\\lambda_1 \\lambda_2}) \\leq norma({\\lambda_1}) + norma({\\lambda_2}) $\n* $ norma({a\\lambda}) =  abs(a) norma(\\lambda) = 0 $",
   "metadata": {
    "cell_id": "2687f9c5-988f-42af-9974-47cd4d44421e",
    "tags": [],
    "deepnote_cell_height": 211.890625,
    "deepnote_cell_type": "markdown"
   }
  },
  {
   "cell_type": "code",
   "source": "%matplotlib inline \n\nimport numpy as np\nimport matplotlib.pyplot as plt\nimport seaborn as sns\n\n",
   "metadata": {
    "cell_id": "9aa6dfa2-8ce1-41cd-a8e5-735f7b817b5f",
    "tags": [],
    "deepnote_cell_height": 189,
    "deepnote_to_be_reexecuted": false,
    "source_hash": "2db15e61",
    "execution_start": 1645164336817,
    "execution_millis": 1876,
    "deepnote_cell_type": "code"
   },
   "outputs": [],
   "execution_count": null
  },
  {
   "cell_type": "code",
   "metadata": {
    "tags": [],
    "cell_id": "d96f82df-517f-4501-b2c8-d357687cf236",
    "deepnote_cell_height": 204,
    "deepnote_to_be_reexecuted": false,
    "source_hash": "e8b4c4bd",
    "execution_start": 1645164338705,
    "execution_millis": 239,
    "deepnote_cell_type": "code"
   },
   "source": "v1 = np.array([2,7])\nv2 = np.array([3,5])\nprint(v1)\nprint(v2)\n",
   "outputs": [
    {
     "name": "stdout",
     "text": "[2 7]\n[3 5]\n",
     "output_type": "stream"
    }
   ],
   "execution_count": null
  },
  {
   "cell_type": "code",
   "source": "v1v2 =v1+v2\nprint(v1v2)",
   "metadata": {
    "cell_id": "ae956249-90c6-4120-a618-c433f389ec44",
    "tags": [],
    "deepnote_cell_height": 130,
    "deepnote_to_be_reexecuted": false,
    "source_hash": "528bd3e1",
    "execution_start": 1645164338722,
    "execution_millis": 2,
    "deepnote_cell_type": "code"
   },
   "outputs": [
    {
     "name": "stdout",
     "text": "[ 5 12]\n",
     "output_type": "stream"
    }
   ],
   "execution_count": null
  },
  {
   "cell_type": "code",
   "source": "np.linalg.norm(v1v2)",
   "metadata": {
    "cell_id": "036673b2-3009-4593-aa0f-277e391e35ba",
    "tags": [],
    "deepnote_cell_height": 118.1875,
    "deepnote_to_be_reexecuted": false,
    "source_hash": "748a9c80",
    "execution_start": 1645164338735,
    "execution_millis": 213,
    "deepnote_output_heights": [
     21.1875
    ],
    "deepnote_cell_type": "code"
   },
   "outputs": [
    {
     "output_type": "execute_result",
     "execution_count": 4,
     "data": {
      "text/plain": "13.0"
     },
     "metadata": {}
    }
   ],
   "execution_count": null
  },
  {
   "cell_type": "markdown",
   "source": "* $ norma({\\lambda_1 \\lambda_2}) \\leq norma({\\lambda_1}) + norma({\\lambda_2}) $\n",
   "metadata": {
    "cell_id": "ab953823-f2f5-4fc7-94d0-7f49ceb17132",
    "tags": [],
    "deepnote_cell_height": 69.71875,
    "deepnote_cell_type": "markdown"
   }
  },
  {
   "cell_type": "code",
   "source": "norma_v1=np.linalg.norm(v1)\nnorma_v2=np.linalg.norm(v2)\nnorma_v1v2=np.linalg.norm(v1v2)\n\nprint(norma_v1v2 <= norma_v1 + norma_v2)",
   "metadata": {
    "cell_id": "8471f653-1fd6-461d-9b68-0e9a3d6e359c",
    "tags": [],
    "deepnote_cell_height": 184,
    "deepnote_to_be_reexecuted": false,
    "source_hash": "1f4eeb94",
    "execution_start": 1645164338793,
    "execution_millis": 157,
    "deepnote_cell_type": "code"
   },
   "outputs": [
    {
     "name": "stdout",
     "text": "True\n",
     "output_type": "stream"
    }
   ],
   "execution_count": null
  },
  {
   "cell_type": "code",
   "source": "print(norma_v1 + norma_v2) ",
   "metadata": {
    "cell_id": "dc7adada-79c9-4da2-91f1-c9464e47f644",
    "tags": [],
    "deepnote_cell_height": 112,
    "deepnote_to_be_reexecuted": false,
    "source_hash": "2cd3a8c6",
    "execution_start": 1645164338795,
    "execution_millis": 0,
    "deepnote_cell_type": "code"
   },
   "outputs": [
    {
     "name": "stdout",
     "text": "13.11106178412582\n",
     "output_type": "stream"
    }
   ],
   "execution_count": null
  },
  {
   "cell_type": "code",
   "source": "v1 = np.array([0,0,2,7])\nv2= np.array([0,0,3,5])\nv1_aux=np.array([v1[2],v1[3],v2[2],v2[3]])\nv1v2=np.array([0,0,5,12])",
   "metadata": {
    "cell_id": "cb1ec7de-f0d6-4bd6-b746-3b20072e3178",
    "tags": [],
    "deepnote_cell_height": 135,
    "deepnote_to_be_reexecuted": false,
    "source_hash": "78e1967",
    "execution_start": 1645164338796,
    "execution_millis": 154,
    "deepnote_cell_type": "code"
   },
   "outputs": [],
   "execution_count": null
  },
  {
   "cell_type": "code",
   "source": "plt.quiver([v1[0],v1_aux[0],v1v2[0]],\n            [v1[1],v1_aux[1],v1v2[1]],\n            [v1[2],v1_aux[2],v1v2[2]],\n            [v1[3],v1_aux[3],v1v2[3]],\n            angles='xy', scale_units='xy',scale=1,\n            color= sns.color_palette()\n)\nplt.xlim(-0.5,6)\nplt.ylim(-0.5,15)\n",
   "metadata": {
    "cell_id": "c89ce767-0afb-4cda-8df0-76ce30d2cac3",
    "tags": [],
    "deepnote_cell_height": 561.1875,
    "deepnote_to_be_reexecuted": false,
    "source_hash": "a4511195",
    "execution_start": 1645164338837,
    "execution_millis": 355,
    "deepnote_output_heights": [
     21.1875,
     250
    ],
    "deepnote_cell_type": "code"
   },
   "outputs": [
    {
     "output_type": "execute_result",
     "execution_count": 8,
     "data": {
      "text/plain": "(-0.5, 15.0)"
     },
     "metadata": {}
    },
    {
     "data": {
      "text/plain": "<Figure size 432x288 with 1 Axes>",
      "image/png": "[encoded data removed]"
     },
     "metadata": {
      "needs_background": "light",
      "image/png": {
       "width": 372,
       "height": 248
      }
     },
     "output_type": "display_data"
    }
   ],
   "execution_count": null
  },
  {
   "cell_type": "code",
   "source": "",
   "metadata": {
    "cell_id": "c8d0d32e-23e0-42f4-8a52-9038e808166b",
    "tags": [],
    "deepnote_cell_height": 81,
    "deepnote_to_be_reexecuted": false,
    "source_hash": "b623e53d",
    "execution_start": 1645164339241,
    "execution_millis": 1,
    "deepnote_cell_type": "code"
   },
   "outputs": [],
   "execution_count": null
  },
  {
   "cell_type": "markdown",
   "source": "<a style='text-decoration:none;line-height:16px;display:flex;color:#5B5B62;padding:10px;justify-content:end;' href='https://deepnote.com?utm_source=created-in-deepnote-cell&projectId=574e9a1c-d8dd-4ee0-b56a-658b2637ff93' target=\"_blank\">\n<img alt='Created in deepnote.com' style='display:inline;max-height:16px;margin:0px;margin-right:7.5px;' src='data:image/svg+xml;base64,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' > </img>\nCreated in <span style='font-weight:600;margin-left:4px;'>Deepnote</span></a>",
   "metadata": {
    "tags": [],
    "created_in_deepnote_cell": true,
    "deepnote_cell_type": "markdown"
   }
  }
 ],
 "nbformat": 4,
 "nbformat_minor": 2,
 "metadata": {
  "orig_nbformat": 2,
  "deepnote": {
   "is_reactive": false
  },
  "deepnote_notebook_id": "b794e923-92dd-4aef-9b3f-e4cd8933548f",
  "deepnote_execution_queue": []
 }
}