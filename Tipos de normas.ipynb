{
 "cells": [
  {
   "cell_type": "markdown",
   "source": "# Tipos de normas \n\n${\\lambda} = [\\lambda_1  ... \\lambda_n]$\n\n$L_0:  \\lambda_i $ ",
   "metadata": {
    "cell_id": "5ec98f34-5537-4f51-b70d-3caf964adc84",
    "tags": [],
    "deepnote_cell_height": 209,
    "deepnote_cell_type": "markdown"
   }
  },
  {
   "cell_type": "code",
   "metadata": {
    "tags": [],
    "cell_id": "71a9ad25-5e33-4c91-ba6d-b3289fdf7560",
    "deepnote_cell_height": 66,
    "deepnote_to_be_reexecuted": false,
    "source_hash": "9522992",
    "execution_start": 1645339443670,
    "execution_millis": 5,
    "deepnote_cell_type": "code"
   },
   "source": "import numpy as np\n\nvector = np.array([1,2,5,0,6,0])\nprint(np.linalg.norm(vector,ord=0))",
   "execution_count": null,
   "outputs": [
    {
     "name": "stdout",
     "text": "4.0\n",
     "output_type": "stream"
    }
   ]
  },
  {
   "cell_type": "code",
   "metadata": {
    "cell_id": "87ff20ca-bb96-4af4-a8a8-129d94736f36",
    "tags": [],
    "deepnote_to_be_reexecuted": false,
    "source_hash": "3fcbb85e",
    "execution_start": 1645339540506,
    "execution_millis": 3,
    "deepnote_cell_type": "code"
   },
   "source": "vector=np.array([1,-1,1,-1,1])\nprint(np.linalg.norm(vector,ord=1))\n",
   "execution_count": null,
   "outputs": [
    {
     "name": "stdout",
     "text": "5.0\n",
     "output_type": "stream"
    }
   ]
  },
  {
   "cell_type": "code",
   "metadata": {
    "cell_id": "d925bf6a-84ef-4987-b10d-1c6f183d515d",
    "tags": [],
    "deepnote_to_be_reexecuted": false,
    "source_hash": "4def05eb",
    "execution_start": 1645339694120,
    "execution_millis": 3,
    "deepnote_cell_type": "code"
   },
   "source": "vector=np.array([1,1])\n\nprint(np.linalg.norm(vector))\nprint(np.linalg.norm(vector,ord=2))\n",
   "execution_count": null,
   "outputs": [
    {
     "name": "stdout",
     "text": "1.4142135623730951\n1.4142135623730951\n",
     "output_type": "stream"
    }
   ]
  },
  {
   "cell_type": "code",
   "metadata": {
    "cell_id": "d6fd28f6-b406-42f8-ac62-79f9888f744c",
    "tags": [],
    "deepnote_to_be_reexecuted": false,
    "source_hash": "adfe17e",
    "execution_start": 1645339795901,
    "execution_millis": 2,
    "deepnote_cell_type": "code"
   },
   "source": "vector=np.array([1,2,3,4,5,6])\nprint(np.linalg.norm(vector,ord=2)**2)",
   "execution_count": null,
   "outputs": [
    {
     "name": "stdout",
     "text": "91.0\n",
     "output_type": "stream"
    }
   ]
  },
  {
   "cell_type": "code",
   "metadata": {
    "cell_id": "1eef4c1b-bc8b-44bd-b031-d1f1deec3ab1",
    "tags": [],
    "deepnote_to_be_reexecuted": false,
    "source_hash": "7e60cc00",
    "execution_start": 1645339843453,
    "execution_millis": 3,
    "deepnote_cell_type": "code"
   },
   "source": "print(vector.T.dot(vector))",
   "execution_count": null,
   "outputs": [
    {
     "name": "stdout",
     "text": "91\n",
     "output_type": "stream"
    }
   ]
  },
  {
   "cell_type": "code",
   "metadata": {
    "cell_id": "c1631056-3b16-4e1a-8d24-1d864e6315db",
    "tags": [],
    "deepnote_to_be_reexecuted": false,
    "source_hash": "1e7d4cb3",
    "execution_start": 1645339929961,
    "execution_millis": 5,
    "deepnote_cell_type": "code"
   },
   "source": "vector=np.array([2,3,-100])\nprint(np.linalg.norm(vector,ord=np.inf))",
   "execution_count": null,
   "outputs": [
    {
     "name": "stdout",
     "text": "100.0\n",
     "output_type": "stream"
    }
   ]
  },
  {
   "cell_type": "code",
   "metadata": {
    "cell_id": "1136813c-6e4b-452b-bdbe-306da52806f1",
    "tags": [],
    "deepnote_cell_type": "code"
   },
   "source": "",
   "execution_count": null,
   "outputs": []
  },
  {
   "cell_type": "markdown",
   "source": "<a style='text-decoration:none;line-height:16px;display:flex;color:#5B5B62;padding:10px;justify-content:end;' href='https://deepnote.com?utm_source=created-in-deepnote-cell&projectId=574e9a1c-d8dd-4ee0-b56a-658b2637ff93' target=\"_blank\">\n<img alt='Created in deepnote.com' style='display:inline;max-height:16px;margin:0px;margin-right:7.5px;' src='data:image/svg+xml;base64,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' > </img>\nCreated in <span style='font-weight:600;margin-left:4px;'>Deepnote</span></a>",
   "metadata": {
    "tags": [],
    "created_in_deepnote_cell": true,
    "deepnote_cell_type": "markdown"
   }
  }
 ],
 "nbformat": 4,
 "nbformat_minor": 2,
 "metadata": {
  "orig_nbformat": 2,
  "deepnote": {
   "is_reactive": false
  },
  "deepnote_notebook_id": "9be839c4-f608-49f1-9a09-ed9044ba5517",
  "deepnote_execution_queue": []
 }
}