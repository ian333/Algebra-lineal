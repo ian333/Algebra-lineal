{
 "cells": [
  {
   "cell_type": "code",
   "metadata": {
    "tags": [],
    "cell_id": "5b3951b0-70da-4d0a-ae5e-01dd392eabc0",
    "deepnote_to_be_reexecuted": false,
    "source_hash": "c2602aa8",
    "execution_start": 1644646344383,
    "execution_millis": 0,
    "deepnote_cell_type": "code"
   },
   "source": "import numpy as np",
   "execution_count": null,
   "outputs": []
  },
  {
   "cell_type": "code",
   "metadata": {
    "cell_id": "7a685915-6beb-4bed-9a0f-bc4b39338c2e",
    "tags": [],
    "deepnote_to_be_reexecuted": false,
    "source_hash": "8e541807",
    "execution_start": 1644646344384,
    "execution_millis": 2,
    "deepnote_cell_type": "code"
   },
   "source": "escalar = 5.67989\nvector = np.array([1,2,3])\nmatriz=np.array([[1,2,3],[3,3,4]])\ntensor= np.array([\n    [[1,2,3],[4,5,6],[7,8,9]],\n    [[11,12,13],[14,15,16],[17,18,19]],\n    [[21,22,23],[24,25,26],[27,28,29]],\n\n])\nprint(escalar)\nprint(vector)\nprint(matriz)\nprint(tensor)",
   "execution_count": null,
   "outputs": [
    {
     "name": "stdout",
     "text": "5.67989\n[1 2 3]\n[[1 2 3]\n [3 3 4]]\n[[[ 1  2  3]\n  [ 4  5  6]\n  [ 7  8  9]]\n\n [[11 12 13]\n  [14 15 16]\n  [17 18 19]]\n\n [[21 22 23]\n  [24 25 26]\n  [27 28 29]]]\n",
     "output_type": "stream"
    }
   ]
  },
  {
   "cell_type": "code",
   "metadata": {
    "cell_id": "c5cba7f5-20b4-4412-9c65-19520ce5f351",
    "tags": [],
    "deepnote_to_be_reexecuted": false,
    "source_hash": "ef57627a",
    "execution_start": 1644646344433,
    "execution_millis": 160765,
    "deepnote_output_heights": [
     21
    ],
    "deepnote_cell_type": "code"
   },
   "source": "print(vector.shape)\nprint(matriz.shape)\nprint(tensor.shape)",
   "execution_count": null,
   "outputs": [
    {
     "name": "stdout",
     "text": "(3,)\n(2, 3)\n(3, 3, 3)\n",
     "output_type": "stream"
    }
   ]
  },
  {
   "cell_type": "markdown",
   "source": "- Al intentar **escalar_t=escalar.T** nos devolvera AttributeError: 'float' object has no attribute 'T'",
   "metadata": {
    "cell_id": "d0a17584-3e5e-44ca-ae89-d9a7ce6a1608",
    "tags": [],
    "deepnote_cell_type": "markdown"
   }
  },
  {
   "cell_type": "code",
   "metadata": {
    "cell_id": "97b8c345-2c83-4b23-9abb-0d32f51e9ab8",
    "tags": [],
    "deepnote_to_be_reexecuted": false,
    "source_hash": "2fad235d",
    "execution_start": 1644646383879,
    "execution_millis": 122,
    "deepnote_cell_type": "code"
   },
   "source": "vector_t = vector.T\nprint(vector_t)",
   "execution_count": null,
   "outputs": [
    {
     "name": "stdout",
     "text": "[1 2 3]\n",
     "output_type": "stream"
    }
   ]
  },
  {
   "cell_type": "code",
   "metadata": {
    "cell_id": "f4f4ac14-6d5c-4ba4-be68-33fb7b4d543b",
    "tags": [],
    "deepnote_to_be_reexecuted": false,
    "source_hash": "b1f62e39",
    "execution_start": 1644646384296,
    "execution_millis": 6,
    "deepnote_cell_type": "code"
   },
   "source": "matriz_t = matriz.T\nprint(matriz)\nprint(matriz.shape)\nprint(matriz_t)\nprint(matriz_t.shape)\n",
   "execution_count": null,
   "outputs": [
    {
     "name": "stdout",
     "text": "[[1 2 3]\n [3 3 4]]\n(2, 3)\n[[1 3]\n [2 3]\n [3 4]]\n(3, 2)\n",
     "output_type": "stream"
    }
   ]
  },
  {
   "cell_type": "code",
   "metadata": {
    "cell_id": "4727f50a-c464-47ab-9719-731a67a22219",
    "tags": [],
    "deepnote_to_be_reexecuted": false,
    "source_hash": "18d92df3",
    "execution_start": 1644646421994,
    "execution_millis": 6,
    "deepnote_cell_type": "code"
   },
   "source": "tensor_t=tensor.T\nprint(tensor)\nprint(tensor.shape)\nprint(tensor_t)\nprint(tensor.shape)\n",
   "execution_count": null,
   "outputs": [
    {
     "name": "stdout",
     "text": "[[[ 1  2  3]\n  [ 4  5  6]\n  [ 7  8  9]]\n\n [[11 12 13]\n  [14 15 16]\n  [17 18 19]]\n\n [[21 22 23]\n  [24 25 26]\n  [27 28 29]]]\n(3, 3, 3)\n[[[ 1 11 21]\n  [ 4 14 24]\n  [ 7 17 27]]\n\n [[ 2 12 22]\n  [ 5 15 25]\n  [ 8 18 28]]\n\n [[ 3 13 23]\n  [ 6 16 26]\n  [ 9 19 29]]]\n(3, 3, 3)\n",
     "output_type": "stream"
    }
   ]
  },
  {
   "cell_type": "markdown",
   "source": "# Suma de Matrices\n\n",
   "metadata": {
    "cell_id": "c7ef5adc-280f-44ba-a1fb-7b0425461a8b",
    "tags": [],
    "deepnote_cell_type": "markdown"
   }
  },
  {
   "cell_type": "code",
   "metadata": {
    "cell_id": "40c0d38d-638a-49eb-a82c-7bbab401ee92",
    "tags": [],
    "deepnote_to_be_reexecuted": false,
    "source_hash": "76348673",
    "execution_start": 1644646771685,
    "execution_millis": 3,
    "deepnote_cell_type": "code"
   },
   "source": " matriz_a=np.array([[1,2,3],[1,5,6],[3,3,4]])\n matriz_b=np.array([[1,2,3],[1,6,7],[3,3,4]])\n \n A = matriz_a\n B = matriz_b\n C = A+B\n print(A)\n print(B)\n print(C)",
   "execution_count": null,
   "outputs": [
    {
     "name": "stdout",
     "text": "[[1 2 3]\n [1 5 6]\n [3 3 4]]\n[[1 2 3]\n [1 6 7]\n [3 3 4]]\n[[ 2  4  6]\n [ 2 11 13]\n [ 6  6  8]]\n",
     "output_type": "stream"
    }
   ]
  },
  {
   "cell_type": "code",
   "metadata": {
    "cell_id": "b4c7e0bc-2be0-4157-9058-549b9c07a1c8",
    "tags": [],
    "deepnote_to_be_reexecuted": false,
    "source_hash": "86bfc781",
    "execution_start": 1644646881214,
    "execution_millis": 7,
    "deepnote_cell_type": "code"
   },
   "source": "D = matriz + escalar\nprint(D)",
   "execution_count": null,
   "outputs": [
    {
     "name": "stdout",
     "text": "[[6.67989 7.67989 8.67989]\n [8.67989 8.67989 9.67989]]\n",
     "output_type": "stream"
    }
   ]
  },
  {
   "cell_type": "markdown",
   "source": "# Reto Platzi   ",
   "metadata": {
    "cell_id": "8d7e2a3a-029d-46c2-94c5-21e78159059d",
    "tags": [],
    "deepnote_cell_type": "markdown"
   }
  },
  {
   "cell_type": "code",
   "metadata": {
    "cell_id": "fa56982c-2cd8-4f7d-b3a8-fe8590857db7",
    "tags": [],
    "deepnote_to_be_reexecuted": false,
    "source_hash": "f6b380e8",
    "execution_start": 1644647003285,
    "execution_millis": 420,
    "deepnote_cell_type": "code"
   },
   "source": "mat_reto=np.random.randint(10,size=(5,5))\nprint(mat_reto)\nprint(mat_reto.T)\n\nsuma_mat= mat_reto+mat_reto.T\nprint(suma_mat)",
   "execution_count": null,
   "outputs": [
    {
     "name": "stdout",
     "text": "[[3 9 0 0 1]\n [7 7 1 2 8]\n [4 2 9 0 5]\n [4 4 9 3 8]\n [2 0 3 4 1]]\n[[3 7 4 4 2]\n [9 7 2 4 0]\n [0 1 9 9 3]\n [0 2 0 3 4]\n [1 8 5 8 1]]\n[[ 6 16  4  4  3]\n [16 14  3  6  8]\n [ 4  3 18  9  8]\n [ 4  6  9  6 12]\n [ 3  8  8 12  2]]\n",
     "output_type": "stream"
    }
   ]
  },
  {
   "cell_type": "code",
   "metadata": {
    "cell_id": "846f0dd3-8b28-459f-8758-7a54f0365dfc",
    "tags": [],
    "deepnote_cell_type": "code"
   },
   "source": "",
   "execution_count": null,
   "outputs": []
  },
  {
   "cell_type": "markdown",
   "source": "<a style='text-decoration:none;line-height:16px;display:flex;color:#5B5B62;padding:10px;justify-content:end;' href='https://deepnote.com?utm_source=created-in-deepnote-cell&projectId=574e9a1c-d8dd-4ee0-b56a-658b2637ff93' target=\"_blank\">\n<img alt='Created in deepnote.com' style='display:inline;max-height:16px;margin:0px;margin-right:7.5px;' src='data:image/svg+xml;base64,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' > </img>\nCreated in <span style='font-weight:600;margin-left:4px;'>Deepnote</span></a>",
   "metadata": {
    "tags": [],
    "created_in_deepnote_cell": true,
    "deepnote_cell_type": "markdown"
   }
  }
 ],
 "nbformat": 4,
 "nbformat_minor": 2,
 "metadata": {
  "orig_nbformat": 2,
  "deepnote": {
   "is_reactive": false
  },
  "deepnote_notebook_id": "8d6c2aac-bc12-44dd-b965-4857e6813db0",
  "deepnote_execution_queue": []
 }
}